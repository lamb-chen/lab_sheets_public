


import numpy as np
import matplotlib.pyplot as plt
from scipy.stats import norm
%matplotlib inline 











# These all return the probability that the item is True, based on previous events
def P_C():
    return 0.5

def P_R(C):
    return 0.2 if C == False else 0.8

def P_S(C):
    return 0.5 if C == False else 0.1

def P_W(R, S):
    if R == False:
        return 0.0 if S == False else 0.9
    else:
        return 0.9 if S == False else 0.99





# write your code here
n = 500
def ancestralSampling(n):
    samples = []
    for _ in range(n):
        c = P_C()
        C = np.random.choice([True, False], p=[c, 1-c])
        r = P_R(c)
        R = np.random.choice([True, False], p=[r, 1-r])
        s = P_S(c)
        S = np.random.choice([True, False], p=[s, 1-s])
        w = P_W(r, s)
        W = np.random.choice([True, False], p=[w, 1-w])
        samples.append([C,R,S,W])
    print(samples[:5])
    return samples

samples = ancestralSampling(n)


samples2 = np.array(samples)
#print(samples2[:,3])
# goes thru every sample and picks samples that are True as False evaluates to 0
# samples2 is a mask 
# : give every element
# ,3 in third column
# when you slices the outer array, evaluate the new array based on the Trues and Falses
print(samples2[samples2[:,3]].shape)
print(np.where(samples2[:,3]==True)[0].shape)
# takes samples2 and take every row where samples2 in the W column evaluates to true


test = np.arange(n)
print(test)
# filter test against 
print(test[samples2[:,3]])





# write your code here
# Marginal distribution is the probability of one random variable having a specific value, regardless of the value of any other random variables.
def marginal_dist(n, samples):
    sum_C, sum_R, sum_S, sum_W = 0, 0, 0 ,0
    for sample in samples:
        sum_C += sample[0]
        sum_R += sample[1]
        sum_S += sample[2]
        sum_W += sample[3]
    marg_C = sum_C / n
    marg_R = sum_R / n
    marg_S = sum_S / n
    marg_W = sum_W / n
    print(marg_C, marg_R, marg_S, marg_W)
    return marg_C, marg_R, marg_S, marg_W
    # print(np.divide(np.sum(samples, axis=0), n))
    # is you do axis=1 that sums up rows

#where W=T
def conditional_dist(n, samples):
    w_true_samples = [sample for sample in samples if sample[3] == True]
    marg_C, marg_R, marg_S, marg_W = marginal_dist(len(w_true_samples), w_true_samples)
    print(marg_C, marg_R, marg_S, marg_W)
    return marg_C, marg_R, marg_S, marg_W

marginal_dist(n, samples)
conditional_dist(n, samples)











# write your code here






true_mean = 0.0
true_variance = 1.0

z = np.linspace(-5.0, 5.0, 500)
true_pdf = gaussian_pdf(mu=true_mean, sigma=np.sqrt(true_variance))

plt.figure(figsize=(10,5))
plt.plot(z, true_pdf(z))
plt.xlabel('$x$')
plt.ylabel('$p(x)$')
plt.show()











def plot_samples(true_pdf, samples_list):
    assert len(samples_list) <= 20, "Number of samples too high! Please call this function with a maximum of 20 samples."
    for i in range(1, len(samples_list)):
        plt.figure(figsize=(10,5))
        plt.plot(z, true_pdf(z))
        for sample in samples_list[:i-1]:
            plt.axvline(sample, c='green')
        plt.axvline(samples_list[i-1], c='red')
        plt.show()

def plot_samples_histogram(true_pdf, samples_list):
    plt.figure(figsize=(10,5))
    plt.plot(z, true_pdf(z))
    plt.hist(samples_list, density=True, histtype='step', bins=50)
    plt.show()


# write your code here












import pymc as pm
import arviz as az





n = 50
true_w0 = 6
true_w1 = 2
true_sigma = 1

x = np.linspace(0, 1, n)
y = true_w0 + true_w1*x + np.random.normal(scale=true_sigma, size=n)





# write your code here






num_samples = 1000
model = pm.Model()

with model:
    # Defining our priors
    w0 = pm.Normal('w0', mu=0, sigma=20)
    w1 = pm.Normal('w1', mu=0, sigma=20)
    sigma = pm.Uniform('sigma', lower=0, upper=20)

    y_est = w0 + w1*x # auxiliary variables

    likelihood = pm.Normal('y', mu=y_est, sigma=sigma, observed=y)
    
    # inference
    sampler = pm.NUTS() # Hamiltonian MCMC with No U-Turn Sampler 
    # or alternatively
    # sampler = pm.Metropolis()
    
    idata = pm.sample(num_samples, step=sampler, progressbar=True)
    





# write your code here






az.plot_trace(idata, combined=True)
az.plot_trace(idata,legend=True)





az.summary(idata, round_to=2)






