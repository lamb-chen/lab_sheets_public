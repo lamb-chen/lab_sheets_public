


import numpy as np
import matplotlib.pyplot as plt
from matplotlib.colors import ListedColormap
from sklearn.linear_model import LogisticRegression
from sklearn.neural_network import MLPClassifier
from sklearn.metrics import ConfusionMatrixDisplay
from sklearn.model_selection import GridSearchCV, RandomizedSearchCV
from sklearn.svm import SVC
from sklearn.datasets import make_moons

import h5py
import imageio
from PIL import Image 
from utils import * # image processing functions from utils.py





train_x_orig, train_y, test_x_orig, test_y, classes = load_data()
print(train_y.shape)
print(train_x_orig.shape)





# Example of a cat picture
index = 200
plt.imshow(train_x_orig[index])
print (f'y = {train_y[0,index]}. It\'s a {classes[train_y[0,index]].decode("utf-8")}!')





train_x_reshaped=train_x_orig.reshape(209, 64*64*3)
num_train = train_x_orig.shape[0]
num_test = test_x_orig.shape[0]





# write your code here
train_x_reshaped = train_x_orig.reshape(num_train, train_x_orig.shape[1]*train_x_orig.shape[2]*train_x_orig.shape[3])
test_x_reshaped = test_x_orig.reshape(num_test, test_x_orig.shape[1]*test_x_orig.shape[2]*test_x_orig.shape[3])






# write your code here
# normalisedTrain = reshapedTrainingData / 255
# normalisedTest = reshapedTestData / 255

# print(scaler.fit(reshapedTrainingData))
normTrain = train_x_reshaped / 255
normTest = test_x_reshaped / 255





# write your code here
model = LogisticRegression()
model.fit(normTrain, train_y.flatten())
predictions = model.predict(normTest)


from sklearn.metrics import accuracy_score
accuracy_score(predictions, test_y.flatten())





# write your code here
from sklearn.neural_network import MLPClassifier
clf = MLPClassifier(hidden_layer_sizes=64, activation='relu', solver='adam',learning_rate_init=0.001, alpha=0, max_iter=200, n_iter_no_change=100).fit(normTrain, train_y.flatten())
clf.loss_curve_
plt.plot(clf.loss_curve_)
plt.title('Loss Curve')
plt.xlabel('Iterations')
plt.ylabel('Loss')
plt.grid()
plt.show()





# write your code here
clf.predict()
accuracy_score(predictions, test_y.flatten())






# write your code here






my_image = "cat.jpg" # change this to the name of your image file 

fname = "images/" + my_image
image = np.array(imageio.imread(fname))
my_image = np.array(Image.fromarray(image).resize((height,width))).reshape((-1,1))
my_image = my_image/255.
my_predicted_image = nn_clf.predict(my_image.T)

plt.imshow(image)
print ("Your neural network predicts a " + classes[int(np.squeeze(my_predicted_image)),].decode("utf-8") +  " picture.")





















